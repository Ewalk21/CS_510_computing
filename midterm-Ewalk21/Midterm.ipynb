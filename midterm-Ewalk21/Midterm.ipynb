{
 "cells": [
  {
   "cell_type": "code",
   "execution_count": null,
   "metadata": {
    "collapsed": false
   },
   "outputs": [],
   "source": [
    "import midterm as md\n",
    "import numpy as np\n",
    "import matplotlib.pyplot as plt"
   ]
  },
  {
   "cell_type": "markdown",
   "metadata": {
    "collapsed": false
   },
   "source": [
    "# Newton-Raphson Method to Find Roots #"
   ]
  },
  {
   "cell_type": "markdown",
   "metadata": {
    "collapsed": false
   },
   "source": [
    "## The Idea of the Method ##"
   ]
  },
  {
   "cell_type": "markdown",
   "metadata": {
    "collapsed": false
   },
   "source": [
    "Given a polynomial, in our case a complex valued polynomial, we can use the iterative Newton-Raphson method to approximate the polynomials roots."
   ]
  },
  {
   "cell_type": "markdown",
   "metadata": {
    "collapsed": false
   },
   "source": [
    "The iterative method is given by  $$ z_{n+1}=z_{n} - \\frac{f(z_{n})}{f^\\prime(z_{n})} $$"
   ]
  },
  {
   "cell_type": "code",
   "execution_count": 0,
   "metadata": {
    "collapsed": false
   },
   "outputs": [],
   "source": []
  },
  {
   "cell_type": "code",
   "execution_count": 0,
   "metadata": {
    "collapsed": false
   },
   "outputs": [],
   "source": []
  },
  {
   "cell_type": "markdown",
   "metadata": {
    "collapsed": false
   },
   "source": [
    "As said in the prompt, the interesting question is what values of $ z_{0} $ have a convergence on a root, and do they all converge on roots? by applying the iterative method to all points in our complex plane and plotting, we can answer this question."
   ]
  },
  {
   "cell_type": "markdown",
   "metadata": {
    "collapsed": false
   },
   "source": [
    "For discussion, let our complex polynomial be $$ f(z)=35z^9 - 180z^7 + 378z^5 - 420z^3 + 315z $$ and let the $ x\\in[-2,2] $ and $ y\\in[-2,2] $ with spacings of $dx=.01$ and $dy=.01$"
   ]
  },
  {
   "cell_type": "markdown",
   "metadata": {
    "collapsed": false
   },
   "source": [
    "To instantiate these details, let's create a NewtonRaphson object from our code by:"
   ]
  },
  {
   "cell_type": "code",
   "execution_count": 2,
   "metadata": {
    "collapsed": false
   },
   "outputs": [],
   "source": [
    "plane = md.NewtonRaphson(-2,2,800,-2,2,800)"
   ]
  },
  {
   "cell_type": "markdown",
   "metadata": {
    "collapsed": false
   },
   "source": [
    "## Using Our Code to Visualize the Algorithms Affect on the Complex Plane ##"
   ]
  },
  {
   "cell_type": "code",
   "execution_count": 3,
   "metadata": {
    "collapsed": false
   },
   "outputs": [
    {
     "data": {
      "image/png": "[encoded data removed]"
     },
     "metadata": {},
     "output_type": "display_data"
    }
   ],
   "source": [
    "plane.show()"
   ]
  },
  {
   "cell_type": "markdown",
   "metadata": {
    "collapsed": false
   },
   "source": [
    "To re-iterate what is happening in the above image, we evaluated the Newton-Raphson iterative method at each point in the complex plane within our boundries. evaluating at each point gave us an approximate root of the complex polynomial, then each one of the 9 roots of our polynomial was assigned a discrete integer which then corresponds to a specific color on the colorbar to the right. Immediatly we can say that a slight shift in the initial condition $z_{0}$ can drastically change the value of convergence for the Newton-Raphson method. More importantly, the boundry at which a large shift occurs takes on fractal characteristics. To get a better understanding of what is happening at the basins, lets zoom our plot toward the middle left one."
   ]
  },
  {
   "cell_type": "code",
   "execution_count": 4,
   "metadata": {
    "collapsed": false
   },
   "outputs": [
    {
     "data": {
      "image/png": "[encoded data removed]"
     },
     "metadata": {},
     "output_type": "display_data"
    }
   ],
   "source": [
    "plane.zoom(-1.8,-.2,250,-.8,.8,250)\n",
    "plane.show()"
   ]
  },
  {
   "cell_type": "code",
   "execution_count": 5,
   "metadata": {
    "collapsed": false
   },
   "outputs": [
    {
     "data": {
      "image/png": "[encoded data removed]"
     },
     "metadata": {},
     "output_type": "display_data"
    }
   ],
   "source": [
    "plane.zoom(-1.5,-.5,200,-.5,.5,200)\n",
    "plane.show()"
   ]
  },
  {
   "cell_type": "markdown",
   "metadata": {
    "collapsed": false
   },
   "source": [
    "We can see that the lines defining the figure have a mixture of colors, this indicates that these lines may also be fractals. This means that even though a value may be extremely precise, a small shift in that value may also have a large shift in what root it converges to. for example lets say a complex number $ -1.21322623 - 0.327378478i $ converges to some root, then $-1.21311624 - .327378479i$ could converge to a completely different root. Near these \"boundry fractals\" the Newton-Raphson method becomes choatic and extremely sensitve to initial conditions"
   ]
  },
  {
   "cell_type": "code",
   "execution_count": 0,
   "metadata": {
    "collapsed": false
   },
   "outputs": [],
   "source": []
  },
  {
   "cell_type": "code",
   "execution_count": 0,
   "metadata": {
    "collapsed": false
   },
   "outputs": [],
   "source": []
  }
 ],
 "metadata": {
  "kernelspec": {
   "display_name": "Python 3 (Ubuntu Linux)",
   "language": "python",
   "name": "python3"
  },
  "language_info": {
   "codemirror_mode": {
    "name": "ipython",
    "version": 3
   },
   "file_extension": ".py",
   "mimetype": "text/x-python",
   "name": "python",
   "nbconvert_exporter": "python",
   "pygments_lexer": "ipython3",
   "version": "3.5.2"
  }
 },
 "nbformat": 4,
 "nbformat_minor": 0
}
